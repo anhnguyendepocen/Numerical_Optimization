{
 "cells": [
  {
   "cell_type": "code",
   "execution_count": 1,
   "metadata": {},
   "outputs": [],
   "source": [
    "import statsmodels.api as sm\n",
    "import math\n",
    "import numpy as np\n",
    "import matplotlib.pyplot as plt\n",
    "import pandas as pd\n",
    "import scipy as sp\n",
    "from scipy import stats\n",
    "from sklearn.datasets import make_regression\n",
    "from numpy import linalg as la"
   ]
  },
  {
   "cell_type": "markdown",
   "metadata": {},
   "source": [
    "# Optimization"
   ]
  },
  {
   "cell_type": "markdown",
   "metadata": {},
   "source": [
    "# 1. Basic optimization\n",
    "\n",
    "- Prior to 1950 many people used maximization rather than minimization\n",
    "\n",
    "`Model fitting:`\n",
    "$$F(d_i, w) =  y_i \\\\ y_i= \\text{label data} \\\\ \\\\ F= \\text{model} \\\\ y_i = \\text{label/outputs}$$\n",
    "\n",
    "- Optimization problems usually use x for the unknown rather than $d_i$\n",
    "\n",
    "\n",
    "`Linear model example:`\n",
    "\n",
    "$$d^T_iw = b_i$$\n",
    "\n",
    "`Loss function:`\n",
    "- Sample data vectors d and labels y then measure the loss function\n",
    "\n",
    "$$min \\sum_i \\ell(d_i, w, y_i$$\n",
    "\n",
    "`Least-squares loss function:`\n",
    "$$min ||D w- b||^2 \\\\ \\ell (d_i, w, b_i) = (d^T_i w-b_i)^2$$\n",
    "\n",
    "Where $d_i^T$ is rows of matrix d, then d*w is matrix vector product (inner product) minus $b_i$\n",
    "\n",
    "`Penalized regressions: ridge penality`\n",
    "$$min ||w||_2^2 + ||D w- b||^2$$"
   ]
  },
  {
   "cell_type": "markdown",
   "metadata": {},
   "source": [
    "# 2. Eigenvalue decomposition in optimization\n",
    "- Eigvalues values show the correct basis\n",
    "- Action of a matrix is described by eigenvalues\n",
    "\n",
    "\n",
    "$$A=UDU^{-1}$$"
   ]
  },
  {
   "cell_type": "markdown",
   "metadata": {},
   "source": [
    "### Python example of decomposition"
   ]
  },
  {
   "cell_type": "code",
   "execution_count": 2,
   "metadata": {},
   "outputs": [
    {
     "data": {
      "text/plain": [
       "array([[14,  6, 13],\n",
       "       [ 1,  5,  4],\n",
       "       [ 8, 10,  4]])"
      ]
     },
     "execution_count": 2,
     "metadata": {},
     "output_type": "execute_result"
    }
   ],
   "source": [
    "A = np.random.randint(20, size=(3,3))\n",
    "A"
   ]
  },
  {
   "cell_type": "code",
   "execution_count": 3,
   "metadata": {},
   "outputs": [
    {
     "name": "stdout",
     "output_type": "stream",
     "text": [
      "[[14.  6. 13.]\n",
      " [ 1.  5.  4.]\n",
      " [ 8. 10.  4.]]\n"
     ]
    }
   ],
   "source": [
    "values, vectors = np.linalg.eig(A)\n",
    "U = vectors\n",
    "U_inv = np.linalg.inv(vectors)\n",
    "D = np.diag(values)\n",
    "eigen = U@D@U_inv\n",
    "print(np.real(np.round(eigen,2)))"
   ]
  },
  {
   "cell_type": "markdown",
   "metadata": {},
   "source": [
    "**Example of eigenvalue decomposition in optimization:**\n",
    "$$x = \\beta_1 e_1 + \\beta_2 e_2 \\\\\n",
    "Ax =  A(\\beta_1 e_1 + \\beta_2 e_2) \\\\\n",
    "= A\\beta_1e_1 + A\\beta_2 e_2 $$\n",
    "\n",
    "Mulitply A by eigenvector = eigenvalue eigenvalue\n",
    "$$= \\beta_1 \\lambda_1 e_1 + \\beta_2 \\lambda_2 e_2 \\tag{2.1}$$\n",
    "\n",
    "**Inverse of 2.1**\n",
    "$\\beta_1 \\lambda_1^{-1} e_1 + \\beta_2 \\lambda_2^{-1} e_2 \\tag{2.2}$"
   ]
  },
  {
   "cell_type": "markdown",
   "metadata": {},
   "source": [
    "## 2.1. Eigenvalue review\n",
    "\n",
    "Using slightly different notation:\n",
    "\n",
    "$$AV= c IV$$\n",
    "\n",
    "Where:\n",
    "- c = eigenvalue\n",
    "- IV = eigenvector\n",
    "\n",
    "Rearranged:\n",
    "\n",
    "$$AV- c IV = 0 \\\\\n",
    "(A-c I)V=0$$\n",
    "Where A-cI is called the characteristic matrix of A\n",
    "\n",
    "- With |A-c I|=0 there is infinite solutions.\n",
    "- Thus to find a uniqaue solution we must normalize by requiring the elements of $v_i$ of V so that $\\sum v_i^2=1$\n",
    "\n",
    "Matrix A is:\n",
    "\n",
    "1. Positive definte $\\Rightarrow$ eigenvalues>0 \n",
    "- Negative definite $\\Rightarrow$ eigenvalues<0\n",
    "- Postive semi-definite $\\Rightarrow$ all eigenvalues are nonnegative and at least one=0 \n",
    "- Negative semi-definite $\\Rightarrow$  all eigenvalues are nonpositive and at least one=0 \n",
    "- Indefinite $\\Rightarrow$ some eigenvalues>0 and some <0\n",
    "\n",
    "### 2.1.1 Finding eigenvalues:\n",
    "\n",
    "$$Det|A-cI| =0$$"
   ]
  },
  {
   "cell_type": "markdown",
   "metadata": {},
   "source": [
    "#### 2.1.1.1 Python example: Eigenvalue with numpy\n",
    "\n",
    "- Using np.linalg.eig(MATRIX)"
   ]
  },
  {
   "cell_type": "code",
   "execution_count": 4,
   "metadata": {},
   "outputs": [
    {
     "data": {
      "text/plain": [
       "array([-3., -9.])"
      ]
     },
     "execution_count": 4,
     "metadata": {},
     "output_type": "execute_result"
    }
   ],
   "source": [
    "A = np.array([[-6,3],[3,-6]])\n",
    "np.linalg.eig(A)[0]"
   ]
  },
  {
   "cell_type": "markdown",
   "metadata": {},
   "source": [
    "#### 2.1.1.2 Python example: Eigenvalue with user defined function"
   ]
  },
  {
   "cell_type": "code",
   "execution_count": 5,
   "metadata": {},
   "outputs": [],
   "source": [
    "def eigen(matrix):\n",
    "    A = np.diag(matrix) #Diagonal\n",
    "    I = np.diag(np.fliplr(matrix)) #Opposite Diagonal\n",
    "    #Quadratic equation\n",
    "    c = np.prod(A)-np.prod(I) #C-term \n",
    "    b = -np.sum(A) #B-term\n",
    "    root_term = math.sqrt(b**2-4*(c))#Quadrtic formula root term\n",
    "    solu1 = (-(b)+root_term)/2 #Quadratic formula solution1\n",
    "    solu2 = ((-b)-root_term)/2 #Quadratic formula solution2\n",
    "    vec1 = matrix-np.diag(np.repeat(solu1,2))\n",
    "    vec2 = matrix-np.diag(np.repeat(solu2,2))\n",
    "    print(\"Original matrix: \\n\",matrix)\n",
    "    print(\"Eigen-values: {}, {}\\n\".format(round(solu1,3),round(solu2,3)))\n",
    "    #Classification of matrix\n",
    "    if solu1>0 and solu2>0:\n",
    "        print('Pos definite')\n",
    "    if solu1<0 and solu2<0:\n",
    "        print('Neg definite')\n",
    "    if (solu1==0 or solu2==0) and (solu1>0 and solu2>0):\n",
    "        print('Pos semi-def')\n",
    "    if (solu1==0 or solu2==0) and (solu1<0 and solu2<0):\n",
    "        print('Pos semi-def')\n",
    "    if (solu1<0 and solu2>0) or (solu1>0 and solu2<0):\n",
    "        print('Indefinite')"
   ]
  },
  {
   "cell_type": "code",
   "execution_count": 6,
   "metadata": {},
   "outputs": [
    {
     "name": "stdout",
     "output_type": "stream",
     "text": [
      "Original matrix: \n",
      " [[4 1]\n",
      " [1 2]]\n",
      "Eigen-values: 4.414, 1.586\n",
      "\n",
      "Pos definite\n"
     ]
    }
   ],
   "source": [
    "A = np.random.randint(5, size=(2,2))\n",
    "eigen(A)"
   ]
  },
  {
   "cell_type": "markdown",
   "metadata": {},
   "source": [
    "## 2.2 Estimation problem\n",
    "\n",
    "Suppose:\n",
    "\n",
    "$$\\lambda_1 =1, \\ \\lambda_2=0.1, \\ \\lambda_3 = 0.01 \\\\\n",
    "Ax = b= \\beta_1 e_1 +0.1\\beta_2 e_2 +0.01 \\beta_3 e_3 \\\\\n",
    "\\hat{b} = b + \\eta$$\n",
    "\n",
    "$\\eta$, noise, would show up at every frequency uniformly\n",
    "\n",
    "Example of adding random Guassian 2-d noise with no directionality at 0.02\n",
    "\n",
    "$$AX = \\beta_1 1.02 +\\beta_2 0.12+0.03 \\beta_3 $$\n",
    "Inversion would blow up the matrix\n",
    "\n",
    "**This issue crops up all the time**\n"
   ]
  },
  {
   "cell_type": "code",
   "execution_count": null,
   "metadata": {},
   "outputs": [],
   "source": []
  },
  {
   "cell_type": "markdown",
   "metadata": {},
   "source": [
    "# 3. Condition number\n",
    "\n",
    "`Condition number:` Ratio of smallest to largest singular value\n",
    "\n",
    "$$\\kappa = \\frac{\\sigma_{\\text{max}}}{\\sigma_{\\text{min}}} \\\\\n",
    "\\kappa = \\frac{\\lambda_{\\text{max}}}{\\lambda_{\\text{min}}}\n",
    "\\\\ \\kappa = ||A||||A||^{-1}\n",
    "$$\n",
    "- A measure of how good you matrix is\n",
    "- Singular values are always positive\n",
    "- $\\lambda$ is for the symmetric matrix\n",
    "- The condition number tells you how much you matrix will react to additional noise\n",
    "- This a higher condition number will negatively impact convolutions, linear operators, etc\n",
    "- The condition number for a convolution is usually very large\n",
    "    - This is a problem for images\n",
    "    - Radar and sonar systems are designed to have low condition numbers"
   ]
  },
  {
   "cell_type": "markdown",
   "metadata": {},
   "source": [
    "## 3.1 Python examples: Condition number"
   ]
  },
  {
   "cell_type": "markdown",
   "metadata": {},
   "source": [
    "### 3.1.1 Python example: Condition number blows up the noise\n",
    "From CMSC 764 hmwk2 "
   ]
  },
  {
   "cell_type": "code",
   "execution_count": 7,
   "metadata": {},
   "outputs": [
    {
     "name": "stdout",
     "output_type": "stream",
     "text": [
      "1. Recovery error with no noise = 1.63e-06\n",
      "2. Recovery error with noise of 1.79e-07 = 178.930\n"
     ]
    }
   ],
   "source": [
    "def condition_blowup(n):\n",
    "    A = sp.linalg.hilbert(n)# construct an n by n matrix\n",
    "    x = np.random.randn(n,1)# construct n by 1 signal \n",
    "    b = A@x \n",
    "    x_recovered = la.inv(A)@b #Can also use la.solve(A,b) \n",
    "    # 1. Recovering X: inverting A dot b \n",
    "    print('1. Recovery error with no noise = {:0.3}'.format(la.norm(x_recovered-x)))\n",
    "    \n",
    "    # 2.1 Now add small amount of noise to vector b\n",
    "    b_noise = b+np.random.randn(n,1)*0.0000001\n",
    "    # 2.2 The error blows up when we try to recover X\n",
    "    x_recovered_withnoise = la.inv(A)@b_noise\n",
    "    print('2. Recovery error with noise of {:.03} = {:.03f}'.format(la.norm(b_noise-b), la.norm(x_recovered_withnoise-x)))\n",
    "    \n",
    "np.random.seed(0)\n",
    "condition_blowup(8)"
   ]
  },
  {
   "cell_type": "markdown",
   "metadata": {},
   "source": [
    "### 3.1.2 Python example: Function that returns Mxn matrix with specific condition number"
   ]
  },
  {
   "cell_type": "code",
   "execution_count": 8,
   "metadata": {},
   "outputs": [
    {
     "name": "stdout",
     "output_type": "stream",
     "text": [
      "The 2x2 matrix A with condition number=2:\n",
      "[[8 8]\n",
      " [3 7]]\n",
      "Constructed matrix which will yield a condtion number=[[1.46829282 0.97228825]\n",
      " [0.02360495 1.37775707]]\n",
      "2.783611624891225 \n",
      "\n"
     ]
    }
   ],
   "source": [
    "import numpy as np\n",
    "def buildmat(m,n,condition_number):\n",
    "    A = np.random.randint(10, size=(m,n))\n",
    "    print(\"The {}x{} matrix A with condition number={}:\\n{}\".format(m,n, condition_number,A))\n",
    "    #print(\"Np.linalg.cond\",np.linalg.cond(A))\n",
    "    U, S, V = np.linalg.svd(A)\n",
    "    S = np.array([[S[j] if i==j else 0 for j in range(n)] for i in range(m)]) #Creates diagnoal matrix with S entries\n",
    "    S[S!=0]= np.linspace(condition_number,1,min(m,n)) #Creates matrix with condition number in 1,1\n",
    "    A = U@S@V\n",
    "    print(\"Constructed matrix which will yield a condtion number={}\".format(A, condition_number))\n",
    "m,n,condNumber = 2,2,2\n",
    "\n",
    "np.random.seed(100)\n",
    "buildmat(m,n,condNumber)\n",
    "print(np.linalg.cond(A),\"\\n\")"
   ]
  },
  {
   "cell_type": "markdown",
   "metadata": {},
   "source": [
    "## 3.2 Deblurring\n",
    "\n",
    "- Blur with linear operator then invert to get back\n",
    "- Now blur with 2-d convolution\n",
    "\n"
   ]
  },
  {
   "cell_type": "markdown",
   "metadata": {},
   "source": [
    "### 3.1.2 Python example: Deblurring\n",
    "\n",
    "- Blur with linear operator then take inverse to recover the image\n",
    "- If there is noise then you will be unable to recover the image"
   ]
  },
  {
   "cell_type": "code",
   "execution_count": null,
   "metadata": {},
   "outputs": [],
   "source": []
  },
  {
   "cell_type": "markdown",
   "metadata": {},
   "source": [
    "\n",
    "# 4. Under-determined systems\n",
    "\n",
    "What if a matrix the matrix is not full-rank? \n",
    "\n",
    "$$A \\in R^{MxN}, \\ \\ M<N \\\\\n",
    "b= Ax + \\eta$$\n",
    "\n",
    "\n",
    "\n",
    "If the error is bounded $||\\eta||<\\varepsilon$ solve:\n",
    "\n",
    "$$\\text{Min} ||x|| s.j.t. \\ \\ ||Ax-b||\\leq \\varepsilon$$\n",
    "\n",
    "- If noise is bounded then finding the simplist solution that satisfies the following constraint\n",
    "- Finds the shortest vector min 2-norm subject to constraint\n",
    "\n"
   ]
  },
  {
   "cell_type": "markdown",
   "metadata": {},
   "source": [
    "## 4.1 Geometric interpretation\n",
    "\n",
    "- If two norm is too small there is no solution\n",
    "- 2-norm ball is tangent to the plane defined by the linear system\n",
    "- Picking different balls for constrain changes where the ball intersects line\n",
    "\n",
    "<img src='Images/l2_4.1_geometric.png'>"
   ]
  },
  {
   "cell_type": "markdown",
   "metadata": {},
   "source": [
    "# 5. Ridge regression\n",
    "\n",
    "- Ridge regression solves linear system with 2-norm penalty\n",
    "\n",
    "If the error is bounded $(||\\eta||\\leq \\varepsilon)$ \n",
    "\n",
    "$$b= Ax+\\eta$$\n",
    "\n",
    "$$Min ||x|| s.j.t ||Ax-b||\\leq \\varepsilon$$\n",
    "\n",
    "This is equivalent to:\n",
    "\n",
    "$$Min \\ \\ \\lambda||x||^2 +||Ax-b||^2$$\n",
    "\n",
    "- As $\\lambda \\uparrow error \\uparrow$\n",
    "- If $\\lambda=0$ then it is linear\n",
    "\n",
    "One way to analyze ridge penalty is to look at what at it does to the condition number of the system\n",
    "- The solution is a lot less noise sensative\n",
    "\n",
    "The new condition number:\n",
    "\n",
    "$$\\frac{\\sigma^2_{\\text{max}}+\\lambda}{\\sigma^2_{\\text{min}}+\\lambda}$$\n",
    "\n"
   ]
  },
  {
   "cell_type": "markdown",
   "metadata": {},
   "source": [
    "## 5.1 Thihonov regularization\n",
    "\n",
    "- Anything that involves a smooth l-2 penalty\n",
    "- Easy to solve these linear systems\n",
    "    - Convex\n",
    "    - Smooth\n",
    "\n",
    "- Improved condition number, less noise sensitivity\n",
    "- Parameter $\\lambda$ can be set in two ways:\n",
    "    1. Empirically\n",
    "    2. Use noise bounds and theory (BIC, etc)"
   ]
  },
  {
   "cell_type": "markdown",
   "metadata": {},
   "source": [
    "## 5.2 Bayesian model for ridge regression\n",
    "\n",
    "### 5.2.1 Bayes rule review\n",
    "\n",
    "$$P(H|E) = P(\\text{Hypothesis}) \\cdot \\frac{P(\\text{Evidence}|\\text{Hypothesis})}{\\text{Evidence}} $$\n",
    "\n",
    "\n",
    "#### 5.2.1.1 Example: Baye's theorem\n",
    "\n",
    "#### The Cookie problem:\n",
    "\n",
    "- Bowl 1: 30 vanilla, 10 chocolate\n",
    "- Bowl 2: 20 vanilla, 20 chocolate\n",
    "\n",
    "**Suppose we randomly draw a vanilla cookie. What is the probability it came from bowl 1?**\n",
    "\n",
    "- This answer would be straightforward IF the question was P(Vanilla|Bowl 1).\n",
    "   - 3/4 because 30/40 cookies are vanilla in bowl one\n",
    "   \n",
    "Instead the answer can be found using Bayes\n",
    "\n",
    "$$P(\\text{Bowl 1}|\\text{Vanilla})= \\frac{p(B_1)p(V|B_1)}{p(V)}\\\\\n",
    "= \\frac{1/2\\cdot3/4}{5/8}\\\\\n",
    "=.6$$\n",
    "\n",
    "\n"
   ]
  },
  {
   "cell_type": "markdown",
   "metadata": {},
   "source": [
    "## 5.2.2 Bayes in ridge\n",
    "\n",
    "1. Choose distribution of data given parameters\n",
    "2. Observe data from random process\n",
    "3. Use Bayes rules\n",
    "4. Find most likely parameters given data\n",
    "5. Uncertainty qunatification and confidence\n",
    "\n",
    "\n",
    "$$Min \\ \\ \\lambda||x||^2 +||Ax-b||^2$$\n",
    "\n",
    "Assumptions:\n",
    "- Prior: Expected signal power: $E\\{x^2_i\\}=E^2$\n",
    "- Linear measurement model: $b=Ax+\\eta$\n",
    "- Noise is i.i.d Gaussian: $eta = . N(0,\\sigma)$\n",
    "- MAP (maximum a-posteriori) estimate: $P(x|b)$\n",
    "\n",
    "\n",
    "**Bayes' rule**\n",
    "$$P(X|Y) \\propto P(X|Y)\\times P(X)$$\n",
    "\n",
    "$$Max x P(x|b) \\propto p(b|x)p(x)$$\n",
    "- Unknown parameter is x\n",
    "- Model: $b \\sim N(Ax, \\sigma)$\n",
    "- Prior: $x \\sim N(0, E)$\n",
    "\n",
    "\n",
    "Probability of data:\n",
    "$$P(b|X) = \\prod_i \\frac{1}{\\sigma \\sqrt{2\\pi}}e ^{-\\frac{1}{2\\sigma^2}(b_i-(Ax)_i)^2} \\\\ \n",
    "= (2\\pi\\sigma^2)^{{-m/2}} e ^{-\\frac{1}{2\\sigma^2}||b_i-Ax||^2}\n",
    "$$\n",
    "\n",
    "Prior:\n",
    "$$P(x) = (2\\pi E^2)^{-n/2} e^{-1\\frac{1}{2E^2}}||x||^2$$\n",
    "\n",
    "\n",
    "Max: \n",
    "\n",
    "$$Exp(\\frac{-||b-Ax||^2}{2\\sigma^2})exp(\\frac{-||x||^2}{2E^2})$$\n",
    "\n",
    "- Ignore all the constants, we are trying to find the x that maximizes\n",
    "\n",
    "Negative Log-Likelihood\n",
    "\n",
    "$$-\\frac{||b-Ax||^2}{2\\sigma^2}-\\frac{||x||^2}{2E^2}$$\n",
    "\n",
    "Multiply by -1 to make into minimization problem\n",
    "\n",
    "$$\\frac{\\sigma^2}{E^2}||x||^2+||b-Ax||^2$$\n",
    "\n",
    "- $\\lambda = \\frac{\\sigma^2}{E^2}$\n",
    "    - $\\sigma$ = noise\n",
    "    - E = expected value of signal\n",
    "    - If we have more noise then the larger the $\\lambda$\n"
   ]
  },
  {
   "cell_type": "markdown",
   "metadata": {},
   "source": [
    "## 5.2.3 Priors\n",
    "\n",
    "- Priors can add information\n",
    "- Ridge/Tikhonov priors require many assumptions\n",
    "- One general prior is sparsity\n",
    "- Usually we want weaker priors so our model doesn't break if we are wrong\n",
    "- Spare priors are often used\n",
    "\n",
    "### 5.2.3.1 Sparse priors\n",
    "\n",
    "- Signal has very few non-zeros: small $\\ell_0$ norm\n",
    "- Low density signals have a rapid decay of coefficients\n",
    "- Fast decay: small and weak $\\ell_p$ norm"
   ]
  },
  {
   "cell_type": "markdown",
   "metadata": {},
   "source": [
    "# 6. Overfitting\n",
    "\n",
    "- Sparsity used a lot in machine learning\n",
    "- Try to do signal estimation on high-dimensional vectors without over-fitting\n",
    "\n",
    "\n",
    "$$Ax = b$$\n",
    "- Features/data=A\n",
    "- Model parameters= x\n",
    "- Labels = b"
   ]
  },
  {
   "cell_type": "markdown",
   "metadata": {},
   "source": [
    "## 6.1 Python example: Overfitting"
   ]
  },
  {
   "cell_type": "code",
   "execution_count": 9,
   "metadata": {},
   "outputs": [
    {
     "data": {
      "image/png": "[encoded data removed]",
      "text/plain": [
       "<Figure size 432x288 with 1 Axes>"
      ]
     },
     "metadata": {
      "needs_background": "light"
     },
     "output_type": "display_data"
    }
   ],
   "source": [
    "from sklearn.datasets import make_regression\n",
    "np.random.seed(1)\n",
    "x, y = make_regression(n_samples=100, n_features=1, noise=10,effective_rank=1, bias=5)\n",
    "x = pd.DataFrame(x)\n",
    "# Create polynomial model\n",
    "for i in range(0,20):\n",
    "    x['x'+str(i)] = x.iloc[:,[0]]**i\n",
    "x=x.drop(0, axis=1)\n",
    "results = sm.OLS(y, x.iloc[:, 1:]).fit()\n",
    "plt.scatter(x['x1'],y)\n",
    "plt.scatter(x.x1, results.predict())\n",
    "plt.title(r'Example of overfitting: $y=a_1+\\cdots+a_{20}$')\n",
    "plt.legend(['Observations','Fitted'])\n",
    "plt.show()"
   ]
  },
  {
   "cell_type": "markdown",
   "metadata": {},
   "source": [
    "## 6.2 Overfitting & condition number\n",
    "\n",
    "**A large condition number $\\rightarrow$ risk of overfitting**\n",
    "\n",
    "- When the condition number is big you will likely overfit if there is any type of noise or rounding error.\n",
    "\n",
    "\n",
    "- The rounding error blows up when inverting matrixs\n",
    "\n",
    "\n",
    "- If the condition number is very big and you start solving the linear system by row elimination you a little rounding error which become part of the solution.\n",
    "\n",
    "\n",
    "- The condition number to a linear system is usually large so the errors explode\n",
    "\n",
    "\n",
    "- If you start solving the system you are accumulating the rounding errors, and when you invert the system this blows up the error\n",
    "\n",
    "\n",
    "- If you have a well conditioned problem then it is difficult to overfit because the X has weak dependence on the noise"
   ]
  },
  {
   "cell_type": "markdown",
   "metadata": {},
   "source": [
    "## 6.2.1 Python example: Overfitting & condition number"
   ]
  },
  {
   "cell_type": "code",
   "execution_count": 10,
   "metadata": {
    "scrolled": true
   },
   "outputs": [
    {
     "name": "stdout",
     "output_type": "stream",
     "text": [
      "Condition number: 9.285999564131141e+17\n"
     ]
    },
    {
     "data": {
      "image/png": "[encoded data removed]",
      "text/plain": [
       "<Figure size 432x288 with 1 Axes>"
      ]
     },
     "metadata": {
      "needs_background": "light"
     },
     "output_type": "display_data"
    }
   ],
   "source": [
    "np.random.seed(1)\n",
    "x, y = make_regression(n_samples=20, n_features=1, noise=10,effective_rank=1, bias=5)\n",
    "x = pd.DataFrame(x)\n",
    "# Create polynomial model\n",
    "\n",
    "rsq = np.zeros(20)\n",
    "degree = np.arange(1,20)\n",
    "for i in degree:\n",
    "    x['x'+str(i)] = x.iloc[:,[0]]**i\n",
    "    results = sm.OLS(y, x.iloc[:, 1:]).fit()\n",
    "    rsq[i] = results.rsquared\n",
    "\n",
    "    \n",
    "print('Condition number: {}'.format(la.cond(x,2)))\n",
    "ax = plt.plot(degree, rsq[1:])\n",
    "plt.ylabel('R-squared')\n",
    "plt.xlabel('Polynomial degree fit')\n",
    "#Find the polynomial when r-squared decreases\n",
    "for idx,i in enumerate(np.diff(rsq[1:], axis=0)):\n",
    "    if i<0:\n",
    "        plt.axvline(idx, color='red')\n",
    "        plt.title('Model is best fit @ '+str(idx))\n",
    "\n"
   ]
  },
  {
   "cell_type": "markdown",
   "metadata": {},
   "source": [
    "## 6.3 Spare recovery problems\n",
    "\n",
    "**Used to control over-fitting**\n",
    "\n",
    "\n",
    "Usually used when matrix is fat (M>N)\n",
    "\n",
    "$$Min ||x||_0 \\ \\ s.j.t \\ \\ AX=b$$\n",
    "- $||x||_0$ = sparse solution\n",
    "- AX = Fat matrix (underdetermined)\n",
    "- b = dense measurements\n",
    "\n",
    "\n",
    "The problem is that L-0 is not convex but we can find a solution"
   ]
  },
  {
   "cell_type": "markdown",
   "metadata": {},
   "source": [
    "### 6.3.1 Convex relaxation\n",
    "\n",
    "Keep trying larger norms until it touches the plane\n",
    "\n",
    "<img src='Images/l2_6.4_Convex_relaxation.png'>"
   ]
  },
  {
   "cell_type": "markdown",
   "metadata": {},
   "source": [
    "#### 6.3.1.1 Python example: Convex relaxation"
   ]
  },
  {
   "cell_type": "code",
   "execution_count": null,
   "metadata": {},
   "outputs": [],
   "source": []
  },
  {
   "cell_type": "markdown",
   "metadata": {},
   "source": [
    "## 6.4 Sparse optimization problems\n",
    "\n",
    "`Basic Pursuit:`\n",
    "- Min 1-L solution\n",
    "$$Min |x| \\ \\ s.j.t \\ \\ Ax=b$$\n",
    "\n",
    "`Basic Pursuit Denoising:`\n",
    "- 2-L with L-1 penalty\n",
    "- Sometimes also called Lasso\n",
    "\n",
    "$$Min \\lambda|x|+ \\frac{1}{2} ||Ax=b||^2$$\n",
    "\n",
    "`Lasso:`\n",
    "- 2-L with \n",
    "$$Min \\frac{1}{2} ||Ax=b||^2\\ \\ s.j.t \\ \\ |x|\\leq \\lambda$$\n"
   ]
  },
  {
   "cell_type": "markdown",
   "metadata": {},
   "source": [
    "### 6.4.1 Sparse optimization with Bayes\n",
    "\n",
    "Basic Pursuit Denoising:\n",
    "\n",
    "$$\\lambda|x|+ \\frac{1}{2} ||Ax=b||^2$$\n",
    "\n",
    "\n",
    "\n",
    "- The smaller the $\\lambda$ the denser the solution\n",
    "- The larger the $\\lambda$ the sparser the solution\n",
    "\n",
    "\n",
    "\n",
    "Prior is often Laplace distribution which is more robust to outliers\n",
    "\n",
    "\n",
    "\n",
    "\n",
    "`Laplace distribution:`\n",
    "\n",
    "$$P(x) = e^{-|x|}$$\n",
    "\n",
    "`Laplace PDF:`\n",
    "$$f(x; \\mu, \\lambda)= \\frac{1}{2\\lambda}\\exp(-\\frac{|x - \\mu|}{\\lambda})$$"
   ]
  },
  {
   "cell_type": "markdown",
   "metadata": {},
   "source": [
    "#### 6.4.1. Python example: Laplace vs. Gauss"
   ]
  },
  {
   "cell_type": "code",
   "execution_count": 11,
   "metadata": {},
   "outputs": [
    {
     "data": {
      "image/png": "[encoded data removed]",
      "text/plain": [
       "<Figure size 432x288 with 1 Axes>"
      ]
     },
     "metadata": {
      "needs_background": "light"
     },
     "output_type": "display_data"
    }
   ],
   "source": [
    "loc, scale = 0, 1\n",
    "laplace = np.random.laplace(loc, scale, 1000)\n",
    "x = np.arange(-8., 8., .01)\n",
    "laplace_pdf = np.exp(-abs(x-loc)/scale)/(2.*scale)\n",
    "plt.plot(x, laplace_pdf, label='Laplacian')\n",
    "gaussian_pdf = (1/(scale * np.sqrt(2 * np.pi)) *\n",
    "     np.exp(-(x - loc)**2 / (2 * scale**2)))\n",
    "plt.plot(x,gaussian_pdf, label='Gaussian')\n",
    "plt.legend()\n",
    "plt.show()"
   ]
  },
  {
   "cell_type": "markdown",
   "metadata": {},
   "source": [
    "### 6.4.2 Sparse optimization with Cross validation\n",
    "\n",
    "- K-fold CV\n",
    "- Leave-one-out CV\n",
    "- Random sampling CV\n",
    "\n",
    "Most straightforward CV is train vs. test\n",
    "- Fitting with different $\\lambda$\n",
    "\n",
    "<img src= 'Images/l2_6.4.2_Sparse optimization.png'>\n",
    "\n"
   ]
  },
  {
   "cell_type": "markdown",
   "metadata": {},
   "source": [
    "## 6.5 After model selection\n",
    "\n",
    "## 6.5.1 Co-sparsity\n",
    "\n",
    "$$\\lambda|\\phi x|+ \\frac{1}{2} ||Ax=b||^2$$\n",
    "Where $\\phi$ is some transformation\n",
    "\n",
    "- Sometimes signal is sparse under a transform\n",
    "\n"
   ]
  }
 ],
 "metadata": {
  "kernelspec": {
   "display_name": "Python 3",
   "language": "python",
   "name": "python3"
  },
  "language_info": {
   "codemirror_mode": {
    "name": "ipython",
    "version": 3
   },
   "file_extension": ".py",
   "mimetype": "text/x-python",
   "name": "python",
   "nbconvert_exporter": "python",
   "pygments_lexer": "ipython3",
   "version": "3.7.6"
  }
 },
 "nbformat": 4,
 "nbformat_minor": 1
}
